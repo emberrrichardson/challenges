{
 "cells": [
  {
   "cell_type": "code",
   "execution_count": 19,
   "id": "a4bad6a6-cf1f-44f1-9e7d-d34d6ca1aa55",
   "metadata": {},
   "outputs": [],
   "source": [
    "import warnings\n",
    "warnings.filterwarnings('ignore')\n",
    "import hoomd\n",
    "import gsd\n",
    "import matplotlib.pyplot as plt\n",
    "import numpy as np\n",
    "import gsd.hoomd\n",
    "from flowermd.utils import get_target_box_number_density\n",
    "import unyt as u\n",
    "#sim_visualizer = FresnelGSD(\n",
    "    #gsd_file=\"trajectory.gsd\", frame=10, view_axis=(1, 1, 1))\n",
    "import hoomd\n",
    "#import signac\n",
    "from flowermd.base import Pack,Lattice, Simulation\n",
    "from flowermd.library import EllipsoidChain\n",
    "from flowermd.library import EllipsoidForcefield\n",
    "\n",
    "from flowermd.utils.constraints import create_rigid_ellipsoid_chain"
   ]
  },
  {
   "cell_type": "code",
   "execution_count": 20,
   "id": "cf881ac7-ca96-4bed-a495-fccd4913861c",
   "metadata": {},
   "outputs": [],
   "source": [
    "#changed edge value\n",
    "ellipsoid_chain = EllipsoidChain(lengths=1,num_mols=128,lpar=1.0,bead_mass=1.0)\n",
    "system = Pack(molecules=ellipsoid_chain, density=.05*u.Unit(\"nm**-3\"), \n",
    "              packing_expand_factor=5,edge=0.5,overlap=1,fix_orientation=True)"
   ]
  },
  {
   "cell_type": "code",
   "execution_count": 21,
   "id": "5a1604a9-69df-46f5-823b-a8dee0bacc28",
   "metadata": {},
   "outputs": [],
   "source": [
    "#change r_cut from 3\n",
    "ff = EllipsoidForcefield(epsilon=1.0,lpar=1.0,lperp=0.5,\n",
    "                         r_cut=2.0,bond_k=100,bond_r0=0)"
   ]
  },
  {
   "cell_type": "code",
   "execution_count": 22,
   "id": "cf972b98-3961-42ed-96b8-526ab18ac83b",
   "metadata": {},
   "outputs": [],
   "source": [
    "#snapshot\n",
    "rigid_frame, rigid_constraint = create_rigid_ellipsoid_chain(system.hoomd_snapshot)"
   ]
  },
  {
   "cell_type": "code",
   "execution_count": 24,
   "id": "4081c26c-d064-4876-9ee3-c75417119a0b",
   "metadata": {},
   "outputs": [
    {
     "name": "stdout",
     "output_type": "stream",
     "text": [
      "Initializing simulation state from a gsd.hoomd.Frame.\n"
     ]
    },
    {
     "ename": "KeyboardInterrupt",
     "evalue": "",
     "output_type": "error",
     "traceback": [
      "\u001b[31m---------------------------------------------------------------------------\u001b[39m",
      "\u001b[31mKeyboardInterrupt\u001b[39m                         Traceback (most recent call last)",
      "\u001b[36mCell\u001b[39m\u001b[36m \u001b[39m\u001b[32mIn[24]\u001b[39m\u001b[32m, line 13\u001b[39m\n\u001b[32m      2\u001b[39m ellipsoid_sim = Simulation(\n\u001b[32m      3\u001b[39m     initial_state=rigid_frame,\n\u001b[32m      4\u001b[39m     forcefield = ff.hoomd_forces,\n\u001b[32m   (...)\u001b[39m\u001b[32m      9\u001b[39m     log_write_freq=\u001b[38;5;28mint\u001b[39m(\u001b[32m1e4\u001b[39m),\n\u001b[32m     10\u001b[39m     log_file_name=\u001b[33m'\u001b[39m\u001b[33mlog.txt\u001b[39m\u001b[33m'\u001b[39m)\n\u001b[32m     12\u001b[39m target_box = get_target_box_number_density(density=\u001b[32m.1\u001b[39m*u.Unit(\u001b[33m\"\u001b[39m\u001b[33mnm**-3\u001b[39m\u001b[33m\"\u001b[39m),n_beads=\u001b[32m128\u001b[39m)\n\u001b[32m---> \u001b[39m\u001b[32m13\u001b[39m \u001b[43mellipsoid_sim\u001b[49m\u001b[43m.\u001b[49m\u001b[43mrun_update_volume\u001b[49m\u001b[43m(\u001b[49m\u001b[43mfinal_box_lengths\u001b[49m\u001b[43m=\u001b[49m\u001b[43mtarget_box\u001b[49m\u001b[43m,\u001b[49m\u001b[43m \u001b[49m\u001b[43mkT\u001b[49m\u001b[43m=\u001b[49m\u001b[32;43m2.0\u001b[39;49m\u001b[43m,\u001b[49m\u001b[43m \u001b[49m\u001b[43mn_steps\u001b[49m\u001b[43m=\u001b[49m\u001b[32;43m1e4\u001b[39;49m\u001b[43m,\u001b[49m\u001b[43mtau_kt\u001b[49m\u001b[43m=\u001b[49m\u001b[32;43m5\u001b[39;49m\u001b[43m*\u001b[49m\u001b[43mellipsoid_sim\u001b[49m\u001b[43m.\u001b[49m\u001b[43mdt\u001b[49m\u001b[43m,\u001b[49m\n\u001b[32m     14\u001b[39m \u001b[43m                                \u001b[49m\u001b[43mperiod\u001b[49m\u001b[43m=\u001b[49m\u001b[32;43m5\u001b[39;49m\u001b[43m,\u001b[49m\u001b[43mthermalize_particles\u001b[49m\u001b[43m=\u001b[49m\u001b[38;5;28;43;01mFalse\u001b[39;49;00m\u001b[43m)\u001b[49m\n\u001b[32m     15\u001b[39m \u001b[38;5;28mprint\u001b[39m(\u001b[33m\"\u001b[39m\u001b[33mshrink finished\u001b[39m\u001b[33m\"\u001b[39m)\n\u001b[32m     16\u001b[39m ellipsoid_sim.run_NVT(n_steps=\u001b[32m1e6\u001b[39m, kT=\u001b[32m2.0\u001b[39m, tau_kt=\u001b[32m5\u001b[39m*ellipsoid_sim.dt)\n",
      "\u001b[36mFile \u001b[39m\u001b[32m/opt/miniconda3/envs/flowermd/lib/python3.12/site-packages/flowermd/base/simulation.py:783\u001b[39m, in \u001b[36mSimulation.run_update_volume\u001b[39m\u001b[34m(self, final_box_lengths, n_steps, period, kT, tau_kt, thermalize_particles, write_at_start)\u001b[39m\n\u001b[32m    778\u001b[39m std_out_logger_printer = hoomd.update.CustomUpdater(\n\u001b[32m    779\u001b[39m     trigger=hoomd.trigger.Periodic(\u001b[38;5;28mself\u001b[39m._std_out_freq),\n\u001b[32m    780\u001b[39m     action=std_out_logger,\n\u001b[32m    781\u001b[39m )\n\u001b[32m    782\u001b[39m \u001b[38;5;28mself\u001b[39m.operations.updaters.append(std_out_logger_printer)\n\u001b[32m--> \u001b[39m\u001b[32m783\u001b[39m \u001b[38;5;28;43mself\u001b[39;49m\u001b[43m.\u001b[49m\u001b[43mrun\u001b[49m\u001b[43m(\u001b[49m\u001b[43msteps\u001b[49m\u001b[43m=\u001b[49m\u001b[43mn_steps\u001b[49m\u001b[43m \u001b[49m\u001b[43m+\u001b[49m\u001b[43m \u001b[49m\u001b[32;43m1\u001b[39;49m\u001b[43m,\u001b[49m\u001b[43m \u001b[49m\u001b[43mwrite_at_start\u001b[49m\u001b[43m=\u001b[49m\u001b[43mwrite_at_start\u001b[49m\u001b[43m)\u001b[49m\n\u001b[32m    784\u001b[39m \u001b[38;5;28mself\u001b[39m.operations.updaters.remove(std_out_logger_printer)\n\u001b[32m    785\u001b[39m \u001b[38;5;28mself\u001b[39m.operations.updaters.remove(box_resizer)\n",
      "\u001b[36mFile \u001b[39m\u001b[32m/opt/miniconda3/envs/flowermd/lib/python3.12/site-packages/hoomd/simulation.py:561\u001b[39m, in \u001b[36mSimulation.run\u001b[39m\u001b[34m(self, steps, write_at_start)\u001b[39m\n\u001b[32m    558\u001b[39m \u001b[38;5;28;01mif\u001b[39;00m steps_int < \u001b[32m0\u001b[39m \u001b[38;5;129;01mor\u001b[39;00m steps_int > TIMESTEP_MAX - \u001b[32m1\u001b[39m:\n\u001b[32m    559\u001b[39m     \u001b[38;5;28;01mraise\u001b[39;00m \u001b[38;5;167;01mValueError\u001b[39;00m(\u001b[33mf\u001b[39m\u001b[33m\"\u001b[39m\u001b[33msteps must be in the range [0, \u001b[39m\u001b[38;5;132;01m{\u001b[39;00mTIMESTEP_MAX\u001b[38;5;250m \u001b[39m-\u001b[38;5;250m \u001b[39m\u001b[32m1\u001b[39m\u001b[38;5;132;01m}\u001b[39;00m\u001b[33m]\u001b[39m\u001b[33m\"\u001b[39m)\n\u001b[32m--> \u001b[39m\u001b[32m561\u001b[39m \u001b[38;5;28;43mself\u001b[39;49m\u001b[43m.\u001b[49m\u001b[43m_cpp_sys\u001b[49m\u001b[43m.\u001b[49m\u001b[43mrun\u001b[49m\u001b[43m(\u001b[49m\u001b[43msteps_int\u001b[49m\u001b[43m,\u001b[49m\u001b[43m \u001b[49m\u001b[43mwrite_at_start\u001b[49m\u001b[43m)\u001b[49m\n",
      "\u001b[31mKeyboardInterrupt\u001b[39m: "
     ]
    }
   ],
   "source": [
    "#Thermalize particles=True\n",
    "#kT=2\n",
    "#density = 0.1 nm**-3\n",
    "#5e6 after shrink\n",
    "gsd_path=('june16-10am.gsd')\n",
    "ellipsoid_sim = Simulation(\n",
    "    initial_state=rigid_frame,\n",
    "    forcefield = ff.hoomd_forces,\n",
    "    constraint=rigid_constraint,\n",
    "    dt=0.0001,\n",
    "    gsd_write_freq=int(1e4),\n",
    "    gsd_file_name=gsd_path,\n",
    "    log_write_freq=int(1e4),\n",
    "    log_file_name='june16-11am.txt')\n",
    "\n",
    "target_box = get_target_box_number_density(density=.3*u.Unit(\"nm**-3\"),n_beads=128)\n",
    "ellipsoid_sim.run_update_volume(final_box_lengths=target_box, kT=2.0, n_steps=5e6,tau_kt=5*ellipsoid_sim.dt,\n",
    "                                period=5,thermalize_particles=True)\n",
    "print(\"shrink finished\")\n",
    "ellipsoid_sim.run_NVT(n_steps=5e6, kT=2.0, tau_kt=5*ellipsoid_sim.dt)\n",
    "#ellipsoid_sim.save_restart_gsd(\"restart.gsd\")\n",
    "ellipsoid_sim.flush_writers()\n",
    "#ellipsoid_sim.save_simulation(\"sim.pickle\")"
   ]
  },
  {
   "cell_type": "code",
   "execution_count": null,
   "id": "53448039-21bd-44b5-ae65-d9f61e28688d",
   "metadata": {},
   "outputs": [],
   "source": [
    "ellipsoid_gsd(gsd_file=gsd_path,new_file=\"june16-11am.gsd\",lpar=1.0,lperp=0.5, ellipsoid_types=\"R\")"
   ]
  },
  {
   "cell_type": "code",
   "execution_count": 18,
   "id": "5c718fb6-d8a2-4a5f-9ffc-a561d43c4e97",
   "metadata": {},
   "outputs": [],
   "source": [
    "def ellipsoid_gsd(gsd_file, new_file, ellipsoid_types, lpar, lperp):\n",
    "    with gsd.hoomd.open(new_file, \"w\") as new_t:\n",
    "        with gsd.hoomd.open(gsd_file) as old_t:\n",
    "            for snap in old_t:\n",
    "                shape_dicts_list = []\n",
    "                for ptype in snap.particles.types:\n",
    "                    if ptype == ellipsoid_types or ptype in ellipsoid_types:\n",
    "                        shapes_dict = {\n",
    "                            \"type\": \"Ellipsoid\",\n",
    "                            \"a\": lpar,\n",
    "                            \"b\": lperp,\n",
    "                            \"c\": lperp,\n",
    "                        }\n",
    "                    else:\n",
    "                        shapes_dict = {\"type\": \"Sphere\", \"diameter\": 0.001}\n",
    "                    shape_dicts_list.append(shapes_dict)\n",
    "                snap.particles.type_shapes = shape_dicts_list\n",
    "                snap.validate()\n",
    "                new_t.append(snap)\n"
   ]
  },
  {
   "cell_type": "code",
   "execution_count": null,
   "id": "0de4e9f4-ad20-43be-8b17-b3e114528315",
   "metadata": {},
   "outputs": [],
   "source": [
    "sim_data = np.genfromtxt(\"june16-11am.txt\", names=True)\n",
    "PotentialEnergy = sim_data[\"mdcomputeThermodynamicQuantitiespotential_energy\"]\n",
    "Time = sim_data[\"flowermdbasesimulationSimulationtimestep\"]\n",
    "x= Time\n",
    "y= PotentialEnergy\n",
    "plt.plot(x,y)\n",
    "plt.xlabel('Time')\n",
    "plt.ylabel('PotentialEnergy')"
   ]
  }
 ],
 "metadata": {
  "kernelspec": {
   "display_name": "Python 3 (ipykernel)",
   "language": "python",
   "name": "python3"
  },
  "language_info": {
   "codemirror_mode": {
    "name": "ipython",
    "version": 3
   },
   "file_extension": ".py",
   "mimetype": "text/x-python",
   "name": "python",
   "nbconvert_exporter": "python",
   "pygments_lexer": "ipython3",
   "version": "3.12.0"
  }
 },
 "nbformat": 4,
 "nbformat_minor": 5
}
